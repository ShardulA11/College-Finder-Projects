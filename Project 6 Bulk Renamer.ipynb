{
 "cells": [
  {
   "cell_type": "markdown",
   "id": "50be305a",
   "metadata": {},
   "source": [
    "# BULK RENAMER"
   ]
  },
  {
   "cell_type": "code",
   "execution_count": 1,
   "id": "6337e0fa",
   "metadata": {},
   "outputs": [
    {
     "name": "stdout",
     "output_type": "stream",
     "text": [
      "****************************************************************************************************\n",
      "This programs helps us to rename the images in bulk in one go!\n",
      "****************************************************************************************************\n"
     ]
    }
   ],
   "source": [
    "print(\"*\"*100)\n",
    "print(\"This programs helps us to rename the images in bulk in one go!\")\n",
    "print(\"*\"*100)"
   ]
  },
  {
   "cell_type": "code",
   "execution_count": 8,
   "id": "40872a35",
   "metadata": {},
   "outputs": [],
   "source": [
    "#Importing required libraries\n",
    "import os\n",
    "\n",
    "#Defining the function\n",
    "def bulk_renamer():\n",
    "    i = 0 #initializing\n",
    "    path=\"C:\\\\Users\\\\Shri\\\\Desktop\\\\Clgfind\\\\Projects\\\\Project 6\\\\images\\\\\"\n",
    "    for fileName in os.listdir(path):\n",
    "        names = \"image{i}.jpg\".format(i=i)\n",
    "        src = path + fileName\n",
    "        destination = path + names\n",
    "        \n",
    "        #Renaming\n",
    "        os.rename(src , destination)\n",
    "        i = i+1\n",
    "\n",
    "# Specifying the condition and calling out the function\n",
    "if __name__ == \"__main__\":\n",
    "    bulk_renamer()\n"
   ]
  },
  {
   "cell_type": "code",
   "execution_count": null,
   "id": "f606172f",
   "metadata": {},
   "outputs": [],
   "source": []
  }
 ],
 "metadata": {
  "kernelspec": {
   "display_name": "Python 3 (ipykernel)",
   "language": "python",
   "name": "python3"
  },
  "language_info": {
   "codemirror_mode": {
    "name": "ipython",
    "version": 3
   },
   "file_extension": ".py",
   "mimetype": "text/x-python",
   "name": "python",
   "nbconvert_exporter": "python",
   "pygments_lexer": "ipython3",
   "version": "3.9.7"
  }
 },
 "nbformat": 4,
 "nbformat_minor": 5
}
