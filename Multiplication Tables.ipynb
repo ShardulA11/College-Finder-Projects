{
 "cells": [
  {
   "cell_type": "markdown",
   "id": "6f93eaae",
   "metadata": {},
   "source": [
    "# Multiplication Tables "
   ]
  },
  {
   "cell_type": "code",
   "execution_count": 4,
   "id": "0d490794",
   "metadata": {},
   "outputs": [
    {
     "name": "stdout",
     "output_type": "stream",
     "text": [
      " \tSimple Tables\n",
      "Enter a number of your choice\n",
      "8811\n",
      "********************\n",
      "8811 X 1 = 8811\n",
      "8811 X 2 = 17622\n",
      "8811 X 3 = 26433\n",
      "8811 X 4 = 35244\n",
      "8811 X 5 = 44055\n",
      "8811 X 6 = 52866\n",
      "8811 X 7 = 61677\n",
      "8811 X 8 = 70488\n",
      "8811 X 9 = 79299\n",
      "8811 X 10 = 88110\n",
      "********************\n"
     ]
    }
   ],
   "source": [
    "print(\" \\tSimple Tables\")\n",
    "num = int(input(\"Enter a number of your choice\\n\"))\n",
    "print(\"*\"*20)\n",
    "multiple = 1\n",
    "while(multiple <= 10):\n",
    "    print(num,\"X\",multiple,\"=\",multiple*num)\n",
    "    multiple = multiple + 1\n",
    "print(\"*\"*20)"
   ]
  },
  {
   "cell_type": "code",
   "execution_count": null,
   "id": "60f1c34b",
   "metadata": {},
   "outputs": [],
   "source": []
  }
 ],
 "metadata": {
  "kernelspec": {
   "display_name": "Python 3 (ipykernel)",
   "language": "python",
   "name": "python3"
  },
  "language_info": {
   "codemirror_mode": {
    "name": "ipython",
    "version": 3
   },
   "file_extension": ".py",
   "mimetype": "text/x-python",
   "name": "python",
   "nbconvert_exporter": "python",
   "pygments_lexer": "ipython3",
   "version": "3.9.7"
  }
 },
 "nbformat": 4,
 "nbformat_minor": 5
}
