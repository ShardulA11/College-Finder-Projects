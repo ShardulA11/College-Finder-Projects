{
 "cells": [
  {
   "cell_type": "markdown",
   "id": "d8552a76",
   "metadata": {},
   "source": [
    "# Rock, Paper and Scissors"
   ]
  },
  {
   "cell_type": "code",
   "execution_count": 2,
   "id": "5d3497c7",
   "metadata": {},
   "outputs": [
    {
     "name": "stdout",
     "output_type": "stream",
     "text": [
      "\t Let's Play Rock,Paper and Scissor\n",
      "Enter rock,paper or scissorsrock\n",
      "Enter rock,paper or scissorsscissors\n",
      "Player 1 has chosen rock and Player 2 has chosen scissors\n",
      "\t Player 1 is the Winner!\n"
     ]
    }
   ],
   "source": [
    "#user input\n",
    "print(\"\\t Let's Play Rock,Paper and Scissor\")\n",
    "player1 = str(input(\"Enter rock,paper or scissors\"))\n",
    "player2 = str(input(\"Enter rock,paper or scissors\"))\n",
    "# Player 1 choosing rock\n",
    "\n",
    "if(player1 == \"rock\") and (player2 == \"rock\"):\n",
    "    print(\"Player 1 has chosen {option1} and Player 2 has chosen {option2}\".format(option1 = player1,option2 = player2))\n",
    "    print(\"\\t That's a tie !\")\n",
    "elif(player1 == \"rock\") and (player2 == \"paper\"):\n",
    "    print(\"Player 1 has chosen {option1} and Player 2 has chosen {option2}\".format(option1 = player1,option2 = player2))\n",
    "    print(\"\\t Player 2 is the Winner!\")\n",
    "elif(player1 == \"rock\") and (player2 == \"scissors\"):\n",
    "    print(\"Player 1 has chosen {option1} and Player 2 has chosen {option2}\".format(option1 = player1,option2 = player2))\n",
    "    print(\"\\t Player 1 is the Winner!\")\n",
    "    \n",
    "# Player 1 choosing paper\n",
    "\n",
    "if(player1 == \"paper\") and (player2 == \"rock\"):\n",
    "    print(\"Player 1 has chosen {option1} and Player 2 has chosen {option2}\".format(option1 = player1,option2 = player2))\n",
    "    print(\"\\t Player 1 is the Winner!\")\n",
    "elif(player1 == \"paper\") and (player2 == \"paper\"):\n",
    "    print(\"Player 1 has chosen {option1} and Player 2 has chosen {option2}\".format(option1 = player1,option2 = player2))\n",
    "    print(\"\\t That's a tie !\")\n",
    "elif(player1 == \"paper \") and (player2 == \"scissors\"):\n",
    "    print(\"Player 1 has chosen {option1} and Player 2 has chosen {option2}\".format(option1 = player1,option2 = player2))\n",
    "    print(\"\\t Player 2 is the Winner!\")\n",
    "\n",
    "# Player 1 choosing scissors\n",
    "\n",
    "if(player1 == \"scissors\") and (player2 == \"rock\"):\n",
    "    print(\"Player 1 has chosen {option1} and Player 2 has chosen {option2}\".format(option1 = player1,option2 = player2))\n",
    "    print(\"\\t Player 2 is the Winner!\")\n",
    "elif(player1 == \"scissors\") and (player2 == \"paper\"):\n",
    "    print(\"Player 1 has chosen {option1} and Player 2 has chosen {option2}\".format(option1 = player1,option2 = player2))\n",
    "    print(\"\\t Player 1 is the Winner!\")\n",
    "elif(player1 == \"paper \") and (player2 == \"scissors\"):\n",
    "    print(\"Player 1 has chosen {option1} and Player 2 has chosen {option2}\".format(option1 = player1,option2 = player2))\n",
    "    print(\"\\t That's a tie !\")\n",
    "\n"
   ]
  },
  {
   "cell_type": "code",
   "execution_count": null,
   "id": "a6f6164b",
   "metadata": {},
   "outputs": [],
   "source": []
  }
 ],
 "metadata": {
  "kernelspec": {
   "display_name": "Python 3 (ipykernel)",
   "language": "python",
   "name": "python3"
  },
  "language_info": {
   "codemirror_mode": {
    "name": "ipython",
    "version": 3
   },
   "file_extension": ".py",
   "mimetype": "text/x-python",
   "name": "python",
   "nbconvert_exporter": "python",
   "pygments_lexer": "ipython3",
   "version": "3.9.7"
  }
 },
 "nbformat": 4,
 "nbformat_minor": 5
}
