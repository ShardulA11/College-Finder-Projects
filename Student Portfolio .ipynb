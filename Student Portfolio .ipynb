{
 "cells": [
  {
   "cell_type": "markdown",
   "id": "37b2bd7b",
   "metadata": {},
   "source": [
    "# Student Portfolio\n"
   ]
  },
  {
   "cell_type": "code",
   "execution_count": 1,
   "id": "ffa80fcb",
   "metadata": {
    "scrolled": true
   },
   "outputs": [
    {
     "name": "stdout",
     "output_type": "stream",
     "text": [
      "Enter Student Name: Shardul Ashtekar\n",
      "Enter Standard: X\n",
      "Enter Division: A\n",
      "Enter Roll. No: 11\n",
      "Enter Science marks out of 100: 96\n",
      "Enter Maths marks out of 100: 98\n",
      "Enter English marks out of 100: 94\n",
      "\tSTUDENT PORTFOLIO\n",
      "Student Name: Shardul Ashtekar\n",
      "Standard: X\n",
      "Division: A\n",
      "Rollno: 11\n",
      "Science marks: 96\n",
      "Maths marks: 98\n",
      "English marks: 94\n",
      "Percentage: 96.0\n"
     ]
    }
   ],
   "source": [
    "# Student Information #\n",
    "name = str(input(\"Enter Student Name: \"))\n",
    "std = str(input(\"Enter Standard: \"))\n",
    "div = str(input(\"Enter Division: \"))\n",
    "roll_no = int(input(\"Enter Roll. No: \"))\n",
    "sci_marks = int(input(\"Enter Science marks out of 100: \"))\n",
    "math_marks = int(input(\"Enter Maths marks out of 100: \"))\n",
    "eng_marks = int(input(\"Enter English marks out of 100: \"))\n",
    "percent = float((sci_marks+math_marks+eng_marks)/300*100)\n",
    "\n",
    "print(\"\\t\"+\"Student Portfolio\".upper())\n",
    "print(\"Student Name:\",name +\"\\n\"+\"Standard:\",std +\"\\n\"+\"Division:\",div +\"\\n\"+ \"Rollno:\",str(roll_no)+\"\\n\"+ \"Science marks:\",str(sci_marks)+\"\\n\"+\"Maths marks:\",str(math_marks)+\"\\n\"+\"English marks:\",str(eng_marks)+\"\\n\"+\"Percentage:\",percent)"
   ]
  }
 ],
 "metadata": {
  "kernelspec": {
   "display_name": "Python 3 (ipykernel)",
   "language": "python",
   "name": "python3"
  },
  "language_info": {
   "codemirror_mode": {
    "name": "ipython",
    "version": 3
   },
   "file_extension": ".py",
   "mimetype": "text/x-python",
   "name": "python",
   "nbconvert_exporter": "python",
   "pygments_lexer": "ipython3",
   "version": "3.9.7"
  }
 },
 "nbformat": 4,
 "nbformat_minor": 5
}
